{
  "nbformat": 4,
  "nbformat_minor": 0,
  "metadata": {
    "colab": {
      "name": "TemplateAhmadWeightMatrix.ipynb",
      "provenance": [],
      "collapsed_sections": [],
      "authorship_tag": "ABX9TyNhWuYOhXdUGGH13Vyl/MJq",
      "include_colab_link": true
    },
    "kernelspec": {
      "name": "python3",
      "display_name": "Python 3",
      "language": "python"
    },
    "language_info": {
      "name": "python",
      "version": "3.8.3"
    },
    "accelerator": "GPU"
  },
  "cells": [
    {
      "cell_type": "code",
      "metadata": {
        "colab": {
          "base_uri": "https://localhost:8080/"
        },
        "id": "9Rqlbag16RLz",
        "outputId": "02dfabd6-2625-4e20-da37-af4d14ad21b2"
      },
      "source": [
        "import matplotlib.pyplot as plt\n",
        "import include.helpers as h\n",
        "import numpy as np"
      ],
      "execution_count": 2,
      "outputs": []
    },
    {
      "cell_type": "code",
      "metadata": {
        "id": "iSGdQPxI6WSb"
      },
      "source": [
        "scaling_factor = 16\n",
        "\n",
        "image_file_name = \"IMG-0002-00074.dcm\"\n",
        "source_image = h.get_image(image_file_name, scaling_factor=scaling_factor)\n",
        "\n",
        "gt_file_name = \"include/data/liver_GT_074.png\"\n",
        "gt_image = h.get_ground_truth_image(gt_file_name, scaling_factor=scaling_factor)\n"
      ],
      "execution_count": 3,
      "outputs": []
    },
    {
      "cell_type": "code",
      "metadata": {
        "id": "3wYJcfzLSfUt"
      },
      "source": [
        "# Get simi matrices with spatial, the list of graphs are sorted as same order as images below\n",
        "# [row_image, normalized_image, thresholded_rowImage, amplified_rowImage, threshed_amplified_rowImage]\n",
        "similarity_matrices = []\n",
        "\n",
        "no_clusters = [4,8,12]\n",
        "use_spatial = False\n",
        "threshold = [True, False]\n",
        "edge_amplification = [True, False]\n",
        "\n",
        "for nc in no_clusters:\n",
        "    for t in threshold:\n",
        "        for ea in edge_amplification:\n",
        "            image = h.get_image(image_file_name, scaling_factor=scaling_factor, normalize=True, apply_threshold=t, amplify_edges=ea)\n",
        "            weight_matrix = h.build_weighMatrix(image, use_spatial=use_spatial)\n",
        "            similarity_matrices.append({\"sim_matrix\": weight_matrix, \"no_clusters\": nc, \"threshold\": t, \"edge\": ea})\n",
        "\n",
        "print(\"variations: \", len(similarity_matrices))"
      ],
      "execution_count": 5,
      "outputs": [
        {
          "output_type": "stream",
          "name": "stdout",
          "text": [
            "variations:  12\n"
          ]
        }
      ]
    },
    {
      "cell_type": "code",
      "metadata": {
        "id": "aLtkkxGX6Zyt"
      },
      "source": [
        "# sparsefy\n",
        "# build segmentation masks/cluster.labeles and graphs\n",
        "masks = []\n",
        "graphs = []\n",
        "for i in range(len(similarity_matrices)):\n",
        "  # add weight threshold of 0.7\n",
        "  similarity_matrices[i][\"sim_matrix\"] = h.sparsefy_simi_matrix(similarity_matrices[i][\"sim_matrix\"], sparse_thresh=0.7)\n",
        "\n",
        "  # cluster\n",
        "  labels, _, _ = h.get_spectral_clustering(similarity_matrices[i][\"sim_matrix\"], n_clusters=similarity_matrices[i][\"no_clusters\"])\n",
        "  \n",
        "  mask = h.get_cluster_image(labels, image.shape)\n",
        "  masks.append(mask)\n",
        "\n",
        "  # find best cluster\n",
        "  best = (0,0,0)\n",
        "  for l in labels:\n",
        "    mask_for_label = h.get_mask_with_specLabel(mask=mask, label=l)\n",
        "    dice_coeff = h.get_dice_coeff(mask_for_label, gt_image)\n",
        "    hausdorff_dist = h.get_hausdorff_dist(mask_for_label, gt_image)\n",
        "    if best[0] < dice_coeff:\n",
        "      best = (dice_coeff, l, hausdorff_dist)\n",
        "  \n",
        "  similarity_matrices[i][\"dice_coeff\"] = best[0]\n",
        "  similarity_matrices[i][\"correct_label\"] = best[1]\n",
        "  similarity_matrices[i][\"hausdorff_dist\"] = best[2]\n",
        "\n",
        "  graph = h.build_graph_of_simiMatrix(similarity_matrices[i][0])\n",
        "  graphs.append(graph)\n",
        "\n",
        "  # get avg clustering coeff\n",
        "  similarity_matrices[i][\"avg_clustering_coeff\"] = h.get_avg_cluster_coef(graph)\n",
        "\n",
        "  # get normalized cut value\n",
        "  similarity_matrices[i][\"normalized_cut_value\"] = h.get_normalizedCut_value(\n",
        "    graph,\n",
        "    h.get_subgrapg(graph,\n",
        "    np.where(mask==similarity_matrices[i][\"correct_label\"])))\n",
        "\n"
      ],
      "execution_count": 7,
      "outputs": [
        {
          "output_type": "error",
          "ename": "NameError",
          "evalue": "name 'tmp' is not defined",
          "traceback": [
            "\u001b[0;31m---------------------------------------------------------------------------\u001b[0m",
            "\u001b[0;31mNameError\u001b[0m                                 Traceback (most recent call last)",
            "\u001b[0;32m<ipython-input-7-3c824d654a95>\u001b[0m in \u001b[0;36m<module>\u001b[0;34m\u001b[0m\n\u001b[1;32m     18\u001b[0m     \u001b[0mmask_for_label\u001b[0m \u001b[0;34m=\u001b[0m \u001b[0mh\u001b[0m\u001b[0;34m.\u001b[0m\u001b[0mget_mask_with_specLabel\u001b[0m\u001b[0;34m(\u001b[0m\u001b[0mmask\u001b[0m\u001b[0;34m=\u001b[0m\u001b[0mmask\u001b[0m\u001b[0;34m,\u001b[0m \u001b[0mlabel\u001b[0m\u001b[0;34m=\u001b[0m\u001b[0ml\u001b[0m\u001b[0;34m)\u001b[0m\u001b[0;34m\u001b[0m\u001b[0;34m\u001b[0m\u001b[0m\n\u001b[1;32m     19\u001b[0m     \u001b[0mdice_coeff\u001b[0m \u001b[0;34m=\u001b[0m \u001b[0mh\u001b[0m\u001b[0;34m.\u001b[0m\u001b[0mget_dice_coeff\u001b[0m\u001b[0;34m(\u001b[0m\u001b[0mmask_for_label\u001b[0m\u001b[0;34m,\u001b[0m \u001b[0mgt_image\u001b[0m\u001b[0;34m)\u001b[0m\u001b[0;34m\u001b[0m\u001b[0;34m\u001b[0m\u001b[0m\n\u001b[0;32m---> 20\u001b[0;31m     \u001b[0mhausdorff_dist\u001b[0m \u001b[0;34m=\u001b[0m \u001b[0mh\u001b[0m\u001b[0;34m.\u001b[0m\u001b[0mget_hausdorff_dist\u001b[0m\u001b[0;34m(\u001b[0m\u001b[0mtmp\u001b[0m\u001b[0;34m,\u001b[0m \u001b[0mgt_image\u001b[0m\u001b[0;34m)\u001b[0m\u001b[0;34m\u001b[0m\u001b[0;34m\u001b[0m\u001b[0m\n\u001b[0m\u001b[1;32m     21\u001b[0m     \u001b[0;32mif\u001b[0m \u001b[0mbest\u001b[0m\u001b[0;34m[\u001b[0m\u001b[0;36m0\u001b[0m\u001b[0;34m]\u001b[0m \u001b[0;34m<\u001b[0m \u001b[0mdice_coeff\u001b[0m\u001b[0;34m:\u001b[0m\u001b[0;34m\u001b[0m\u001b[0;34m\u001b[0m\u001b[0m\n\u001b[1;32m     22\u001b[0m       \u001b[0mbest\u001b[0m \u001b[0;34m=\u001b[0m \u001b[0;34m(\u001b[0m\u001b[0mdice_coeff\u001b[0m\u001b[0;34m,\u001b[0m \u001b[0ml\u001b[0m\u001b[0;34m,\u001b[0m \u001b[0mhausdorff_dist\u001b[0m\u001b[0;34m)\u001b[0m\u001b[0;34m\u001b[0m\u001b[0;34m\u001b[0m\u001b[0m\n",
            "\u001b[0;31mNameError\u001b[0m: name 'tmp' is not defined"
          ]
        }
      ]
    },
    {
      "cell_type": "code",
      "metadata": {
        "colab": {
          "base_uri": "https://localhost:8080/",
          "height": 255
        },
        "id": "qnUTgWSk-pHU",
        "outputId": "863c0485-8839-4785-90f5-eba6f0620fbd"
      },
      "source": [
        "# plot\n",
        "\n",
        "cluster_labels = []\n",
        "for i in range(len(similarity_matrices)):\n",
        "    cluster_labels.append(similarity_matrices[i][\"correct_label\"])\n",
        "\n",
        "h.plot_multiple_masks(masks, cluster_labels, source_image)"
      ],
      "execution_count": 1,
      "outputs": [
        {
          "output_type": "error",
          "ename": "NameError",
          "evalue": "name 'similarity_matrices' is not defined",
          "traceback": [
            "\u001b[0;31m---------------------------------------------------------------------------\u001b[0m",
            "\u001b[0;31mNameError\u001b[0m                                 Traceback (most recent call last)",
            "\u001b[0;32m<ipython-input-1-09e581d1b5d9>\u001b[0m in \u001b[0;36m<module>\u001b[0;34m\u001b[0m\n\u001b[1;32m      2\u001b[0m \u001b[0;34m\u001b[0m\u001b[0m\n\u001b[1;32m      3\u001b[0m \u001b[0mcluster_labels\u001b[0m \u001b[0;34m=\u001b[0m \u001b[0;34m[\u001b[0m\u001b[0;34m]\u001b[0m\u001b[0;34m\u001b[0m\u001b[0;34m\u001b[0m\u001b[0m\n\u001b[0;32m----> 4\u001b[0;31m \u001b[0;32mfor\u001b[0m \u001b[0mi\u001b[0m \u001b[0;32min\u001b[0m \u001b[0mrange\u001b[0m\u001b[0;34m(\u001b[0m\u001b[0mlen\u001b[0m\u001b[0;34m(\u001b[0m\u001b[0msimilarity_matrices\u001b[0m\u001b[0;34m)\u001b[0m\u001b[0;34m)\u001b[0m\u001b[0;34m:\u001b[0m\u001b[0;34m\u001b[0m\u001b[0;34m\u001b[0m\u001b[0m\n\u001b[0m\u001b[1;32m      5\u001b[0m     \u001b[0mcluster_labels\u001b[0m\u001b[0;34m.\u001b[0m\u001b[0mappend\u001b[0m\u001b[0;34m(\u001b[0m\u001b[0msimilarity_matrices\u001b[0m\u001b[0;34m[\u001b[0m\u001b[0mi\u001b[0m\u001b[0;34m]\u001b[0m\u001b[0;34m[\u001b[0m\u001b[0;36m2\u001b[0m\u001b[0;34m]\u001b[0m\u001b[0;34m)\u001b[0m\u001b[0;34m\u001b[0m\u001b[0;34m\u001b[0m\u001b[0m\n\u001b[1;32m      6\u001b[0m \u001b[0;34m\u001b[0m\u001b[0m\n",
            "\u001b[0;31mNameError\u001b[0m: name 'similarity_matrices' is not defined"
          ]
        }
      ]
    },
    {
      "cell_type": "code",
      "metadata": {
        "colab": {
          "base_uri": "https://localhost:8080/",
          "height": 335
        },
        "id": "nP3v4reYDlnh",
        "outputId": "ed18d60a-f908-4839-ec49-45ba9aa5436d"
      },
      "source": [
        "plt.figure(figsize=(22,5))\n",
        "\n",
        "plt.subplot(1, 2, 1)\n",
        "plt.bar(similarity_matrices[:][\"avg_clustering_coeff\"])\n",
        "plt.title('Average Clustering coefficients.')\n",
        "\n",
        "plt.subplot(1, 2, 2)\n",
        "plt.bar(similarity_matrices[:][\"normalized_cut_value\"])\n",
        "plt.title('Normalized cut values')\n",
        "\n",
        "plt.show()"
      ],
      "execution_count": null,
      "outputs": []
    },
    {
      "cell_type": "code",
      "execution_count": null,
      "metadata": {},
      "outputs": [],
      "source": []
    }
  ]
}